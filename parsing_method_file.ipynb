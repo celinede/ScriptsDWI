{
 "cells": [
  {
   "cell_type": "code",
   "execution_count": 1,
   "metadata": {
    "collapsed": true
   },
   "outputs": [],
   "source": [
    "### V1, 03.05.2016, Celine ###\n",
    "####### Extract bval and bvec files from the corresponding method file #######\n",
    "\n",
    "%matplotlib inline\n",
    "import re #regular expression\n",
    "from pandas import DataFrame\n",
    "import numpy as np"
   ]
  },
  {
   "cell_type": "code",
   "execution_count": 13,
   "metadata": {
    "collapsed": false
   },
   "outputs": [
    {
     "name": "stdout",
     "output_type": "stream",
     "text": [
      "##$PVM_DwEffBval=( 210 )\n",
      "\n",
      "##$PVM_DwDir=( 200, 3 )\n",
      "\n",
      "##$PVM_DwEffBval=( 210 )\n",
      "\n",
      "##$PVM_DwDir=( 200, 3 )\n",
      "\n",
      "##$PVM_DwEffBval=( 210 )\n",
      "\n",
      "##$PVM_DwDir=( 200, 3 )\n",
      "\n",
      "##$PVM_DwEffBval=( 210 )\n",
      "\n",
      "##$PVM_DwDir=( 200, 3 )\n",
      "\n",
      "##$PVM_DwEffBval=( 210 )\n",
      "\n",
      "##$PVM_DwDir=( 200, 3 )\n",
      "\n",
      "##$PVM_DwEffBval=( 210 )\n",
      "\n",
      "##$PVM_DwDir=( 200, 3 )\n",
      "\n",
      "##$PVM_DwEffBval=( 210 )\n",
      "\n",
      "##$PVM_DwDir=( 200, 3 )\n",
      "\n",
      "##$PVM_DwEffBval=( 210 )\n",
      "\n",
      "##$PVM_DwDir=( 200, 3 )\n",
      "\n",
      "##$PVM_DwEffBval=( 210 )\n",
      "\n",
      "##$PVM_DwDir=( 200, 3 )\n",
      "\n",
      "##$PVM_DwEffBval=( 210 )\n",
      "\n",
      "##$PVM_DwDir=( 200, 3 )\n",
      "\n",
      "##$PVM_DwEffBval=( 210 )\n",
      "\n",
      "##$PVM_DwDir=( 200, 3 )\n",
      "\n",
      "##$PVM_DwEffBval=( 210 )\n",
      "\n",
      "##$PVM_DwDir=( 200, 3 )\n",
      "\n",
      "##$PVM_DwEffBval=( 210 )\n",
      "\n",
      "##$PVM_DwDir=( 200, 3 )\n",
      "\n",
      "##$PVM_DwEffBval=( 210 )\n",
      "\n",
      "##$PVM_DwDir=( 200, 3 )\n",
      "\n",
      "##$PVM_DwEffBval=( 210 )\n",
      "\n",
      "##$PVM_DwDir=( 200, 3 )\n",
      "\n"
     ]
    }
   ],
   "source": [
    "# Replace with your parameters, rest doesnt need changes #\n",
    "subjectnames = [\"P0_F02\",\"P2_F25\",\"P2_F28\",\"P4_F07\",\"P4_F08\",\"P8_F10\",\"P16_F20\",\"P16_F21\",\"P32_F16\",\"P32_F17\",\"P32_F19\",\"P64_F01\",\"P64_F04\",\"P64_F05\",\"P64_F22\"] \n",
    "subjectpath = \"/Users/ghfc/Desktop/Celine/\"\n",
    "methodfilename = \"method\"\n",
    "\n",
    "for subjectname in subjectnames:\n",
    "    getBval(subjectname, subjectpath, methodfilename)"
   ]
  },
  {
   "cell_type": "code",
   "execution_count": 9,
   "metadata": {
    "collapsed": false,
    "scrolled": true
   },
   "outputs": [],
   "source": [
    "def getBval(subjectname, subjectpath, methodfilename):\n",
    "    f = open(subjectpath+subjectname+'/'+methodfilename,\"r\")\n",
    "\n",
    "    #Extract bvals from 'method' file in a data frame\n",
    "\n",
    "    for line in f:\n",
    "        if re.search(r'PVM_DwEffBval=',line): #find parameter of bval\n",
    "            #print line\n",
    "            ne = f.next() #read line after the name of the parameter\n",
    "            nb_str = ne.split()\n",
    "            bval_arr = [float(x) for x in nb_str] #first line in an array\n",
    "            ne = f.next()\n",
    "            while(re.match(\"[-+]?\\d*\\.\\d+|\\d+\",ne)!=None): #while the next line is made of floats parse in the array\n",
    "                nb_str2 = ne.split()\n",
    "                for x in nb_str2:\n",
    "                    bval_arr.append(x)\n",
    "                ne = f.next()\n",
    "            bval = DataFrame(bval_arr) #array in data frame\n",
    "            bval=bval.transpose() #transpose data frame to have one line with all the bvals\n",
    "            bval.to_csv(subjectpath+subjectname+'/'+subjectname+'.bval', sep=\" \", index=False, header=False) #save data frame in a file \n",
    "    f.close()\n",
    "    getBvec(subjectname, subjectpath, methodfilename, bval)\n",
    "    getInfo(subjectname, subjectpath, methodfilename, bval)"
   ]
  },
  {
   "cell_type": "code",
   "execution_count": 7,
   "metadata": {
    "collapsed": false
   },
   "outputs": [],
   "source": [
    "def getBvec(subjectname, subjectpath, methodfilename, bval):\n",
    "    f = open(subjectpath+subjectname+'/'+methodfilename,\"r\")\n",
    "\n",
    "    #Extract bvecs from 'method' file in a data frame\n",
    "\n",
    "    for line in f:\n",
    "        if re.search(r'PVM_DwDir=',line): #find parameter of bvec\n",
    "            #print line\n",
    "            bvec_arr = np.zeros((3,bval.size)) #define the bvec array (3 lines (x,y,z), same number as bval columns)\n",
    "            i=0\n",
    "            ne = f.next() #read line after the name of the parameter\n",
    "            while(re.match(\"[-+]?\\d*\\.\\d+|\\d+\",ne)!=None): #while the next line is made of floats parse in the array\n",
    "                nb_str = ne.split()\n",
    "                for x in nb_str:\n",
    "                    j = i%3 #line number (modulo)\n",
    "                    k = i/3 #column number\n",
    "                    bvec_arr[j][k+10] = float(x) #assign value in the array (+10 because 10 first B0 are 0)\n",
    "                    i=i+1\n",
    "                ne = f.next() #when all floats of the current line are done, go to the next\n",
    "            bvec = DataFrame(bvec_arr) #array in data frame\n",
    "            bvec.to_csv(subjectpath+subjectname+'/'+subjectname+'.bvec', sep=\" \", index=False, header=False) #save data frame in a file \n",
    "    f.close()"
   ]
  },
  {
   "cell_type": "code",
   "execution_count": 8,
   "metadata": {
    "collapsed": false
   },
   "outputs": [],
   "source": [
    "def getInfo(subjectname, subjectpath, methodfilename, bval):\n",
    "    f = open(subjectpath+subjectname+'/'+methodfilename,\"r\")\n",
    "\n",
    "    #Get info\n",
    "    #PVM_Matrix= ==>x, y\n",
    "    #PVM_SPackArrNSlices= ==>z\n",
    "    #PVM_SpatResol= ==> resolution in x, y\n",
    "    #PVM_SPackArrSliceDistance= ==> resolution in z\n",
    "    #nb bval\n",
    "\n",
    "    for line in f:\n",
    "        if re.search(r'PVM_Matrix=',line): \n",
    "            ne = f.next()\n",
    "            nb_str = ne.split()\n",
    "            mat_x = int(nb_str[1])\n",
    "            mat_y = int(nb_str[0])\n",
    "        if re.search(r'PVM_SPackArrNSlices=',line):\n",
    "            ne = f.next()\n",
    "            mat_z = int(ne)\n",
    "        if re.search(r'PVM_SpatResol=',line):\n",
    "            ne = f.next()\n",
    "            nb_str = ne.split()\n",
    "            res_x = float(nb_str[1])\n",
    "            res_y = float(nb_str[0])\n",
    "        if re.search(r'PVM_SPackArrSliceDistance=',line):\n",
    "            ne = f.next()\n",
    "            res_z = float(ne)\n",
    "    f.close()\n",
    "\n",
    "    info_arr = np.zeros((3,3))\n",
    "    info_arr[0][0] = mat_x\n",
    "    info_arr[0][1] = mat_y\n",
    "    info_arr[0][2] = mat_z\n",
    "    info_arr[1][0] = mat_x * res_x\n",
    "    info_arr[1][1] = mat_y * res_y\n",
    "    info_arr[1][2] = mat_z * res_z\n",
    "    info_arr[2][0] = bval.size\n",
    "\n",
    "    #print info_arr\n",
    "\n",
    "    info = DataFrame(info_arr)\n",
    "    info.to_csv(subjectpath+subjectname+'/'+subjectname+'_info'+'.txt', sep=\" \", index=False, header=False) #save data frame in a file "
   ]
  },
  {
   "cell_type": "code",
   "execution_count": null,
   "metadata": {
    "collapsed": true
   },
   "outputs": [],
   "source": []
  }
 ],
 "metadata": {
  "kernelspec": {
   "display_name": "Python 2",
   "language": "python",
   "name": "python2"
  },
  "language_info": {
   "codemirror_mode": {
    "name": "ipython",
    "version": 2
   },
   "file_extension": ".py",
   "mimetype": "text/x-python",
   "name": "python",
   "nbconvert_exporter": "python",
   "pygments_lexer": "ipython2",
   "version": "2.7.11"
  }
 },
 "nbformat": 4,
 "nbformat_minor": 0
}
